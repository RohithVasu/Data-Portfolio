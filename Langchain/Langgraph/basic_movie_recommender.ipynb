{
 "cells": [
  {
   "cell_type": "code",
   "execution_count": 9,
   "metadata": {},
   "outputs": [],
   "source": [
    "import os\n",
    "\n",
    "os.environ['GEMINI_API_KEY'] = '*******'\n",
    "gemini_api_key = os.getenv(\"GEMINI_API_KEY\")"
   ]
  },
  {
   "cell_type": "code",
   "execution_count": 10,
   "metadata": {},
   "outputs": [
    {
     "name": "stderr",
     "output_type": "stream",
     "text": [
      "/Users/rohith_vasu/Library/Python/3.12/lib/python/site-packages/tqdm/auto.py:21: TqdmWarning: IProgress not found. Please update jupyter and ipywidgets. See https://ipywidgets.readthedocs.io/en/stable/user_install.html\n",
      "  from .autonotebook import tqdm as notebook_tqdm\n"
     ]
    },
    {
     "data": {
      "text/plain": [
       "'Hey there! How can I help you today?'"
      ]
     },
     "execution_count": 10,
     "metadata": {},
     "output_type": "execute_result"
    }
   ],
   "source": [
    "import google.generativeai as genai\n",
    "\n",
    "genai.configure(api_key = gemini_api_key)\n",
    "model = genai.GenerativeModel('gemini-pro')\n",
    "model.generate_content('Hey there').text"
   ]
  },
  {
   "cell_type": "code",
   "execution_count": 11,
   "metadata": {},
   "outputs": [],
   "source": [
    "def preference(pref):\n",
    "    preference = {}\n",
    "    genre = input('Tell me about your genre preference')\n",
    "    preference['genre'] = genre\n",
    "    rating = input('What minimum imdb rating do you prefer for movies you watch?')\n",
    "    preference['rating'] = rating\n",
    "    release_year = input('What release year range do you prefer for movies?')\n",
    "    preference['release_year'] = release_year\n",
    "    return preference\n",
    "\n",
    "def response(preference):\n",
    "    prompt = f'Suggest 2 to 3 movies of {preference['genre']} genre with imdb rating {preference['rating']} released in the year {preference['release_year']} along with the movie description'\n",
    "    response = model.generate_content(prompt)\n",
    "    return response.text"
   ]
  },
  {
   "cell_type": "code",
   "execution_count": 12,
   "metadata": {},
   "outputs": [],
   "source": [
    "from langgraph.graph import Graph\n",
    "\n",
    "# Define a langchain graph\n",
    "workflow = Graph()\n",
    "\n",
    "workflow.add_node(\"node_1\", preference)\n",
    "workflow.add_node(\"node_2\", response)\n",
    "\n",
    "workflow.add_edge(\"node_1\", \"node_2\")\n",
    "\n",
    "workflow.set_entry_point(\"node_1\")\n",
    "workflow.set_finish_point(\"node_2\")\n",
    "\n",
    "app = workflow.compile()"
   ]
  },
  {
   "cell_type": "code",
   "execution_count": 13,
   "metadata": {},
   "outputs": [
    {
     "data": {
      "text/plain": [
       "\"1. **The Conjuring** (2013, IMDb rating 7.5)\\n\\nA family moves into a haunted farmhouse and encounters terrifying paranormal phenomena. Investigators Ed and Lorraine Warren are brought in to help them uncover the dark secrets of the house.\\n\\n2. **Sinister** (2012, IMDb rating 6.9)\\n\\nA true-crime writer finds a box of home videos depicting gruesome murders. As he investigates the tapes, he uncovers a sinister pattern and a demonic entity that threatens his family.\\n\\n3. **Hereditary** (2018, IMDb rating 7.3)\\n\\nAfter the death of their secretive grandmother, a family unravels dark secrets and disturbing events that have plagued their lineage for generations. The family's mental health and well-being are tested as they confront the horrors that have been passed down to them.\""
      ]
     },
     "execution_count": 13,
     "metadata": {},
     "output_type": "execute_result"
    }
   ],
   "source": [
    "app.invoke(preference)"
   ]
  }
 ],
 "metadata": {
  "kernelspec": {
   "display_name": "Python 3",
   "language": "python",
   "name": "python3"
  },
  "language_info": {
   "codemirror_mode": {
    "name": "ipython",
    "version": 3
   },
   "file_extension": ".py",
   "mimetype": "text/x-python",
   "name": "python",
   "nbconvert_exporter": "python",
   "pygments_lexer": "ipython3",
   "version": "3.12.4"
  }
 },
 "nbformat": 4,
 "nbformat_minor": 2
}
