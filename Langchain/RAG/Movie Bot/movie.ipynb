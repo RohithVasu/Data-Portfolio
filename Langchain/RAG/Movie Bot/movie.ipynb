{
 "cells": [
  {
   "cell_type": "code",
   "execution_count": 39,
   "id": "89d93bda-e1f3-42cf-a1e8-46fde222aaf9",
   "metadata": {},
   "outputs": [],
   "source": [
    "import os\n",
    "from langchain_community.document_loaders.csv_loader import CSVLoader\n",
    "from langchain.embeddings import SentenceTransformerEmbeddings\n",
    "from langchain.vectorstores import Chroma\n",
    "import google.generativeai as genai"
   ]
  },
  {
   "cell_type": "code",
   "execution_count": 40,
   "id": "699b6afa-7a55-475c-87b2-cc2727f4dafe",
   "metadata": {},
   "outputs": [],
   "source": [
    "# set gemini api key as environment variable\n",
    "os.environ['GEMINI_API_KEY'] = '********'"
   ]
  },
  {
   "cell_type": "code",
   "execution_count": 13,
   "id": "c02e9848-fd98-4bca-be83-adb3d4d9fa81",
   "metadata": {},
   "outputs": [],
   "source": [
    "def read_data(file_name):\n",
    "    file_path = (file_name)\n",
    "    loader = CSVLoader(file_path = file_path)\n",
    "    data = loader.load()\n",
    "\n",
    "    content = []\n",
    "    for doc in data:\n",
    "        con = doc.page_content\n",
    "        content.append(con)\n",
    "        \n",
    "    return content"
   ]
  },
  {
   "cell_type": "code",
   "execution_count": 14,
   "id": "56aceb25-cfbe-4275-a28f-807c7db553f2",
   "metadata": {},
   "outputs": [],
   "source": [
    "data = read_data('imdb_top_1000.csv')"
   ]
  },
  {
   "cell_type": "code",
   "execution_count": 17,
   "id": "7a003ae8-cdb9-45e2-a6cd-2910700b4d16",
   "metadata": {},
   "outputs": [],
   "source": [
    "def embed_and_load(content):\n",
    "    embeddings = SentenceTransformerEmbeddings(model_name = 'sentence-transformers/all-mpnet-base-v2')\n",
    "    db = Chroma.from_texts(content, embeddings)\n",
    "    return db"
   ]
  },
  {
   "cell_type": "code",
   "execution_count": 18,
   "id": "e60ff00a-9d7e-4cab-a111-5a1f2017f849",
   "metadata": {},
   "outputs": [
    {
     "name": "stderr",
     "output_type": "stream",
     "text": [
      "/opt/homebrew/Cellar/jupyterlab/4.2.1/libexec/lib/python3.12/site-packages/langchain_core/_api/deprecation.py:139: LangChainDeprecationWarning: The class `HuggingFaceEmbeddings` was deprecated in LangChain 0.2.2 and will be removed in 0.3.0. An updated version of the class exists in the langchain-huggingface package and should be used instead. To use it run `pip install -U langchain-huggingface` and import as `from langchain_huggingface import HuggingFaceEmbeddings`.\n",
      "  warn_deprecated(\n",
      "/opt/homebrew/Cellar/jupyterlab/4.2.1/libexec/lib/python3.12/site-packages/sentence_transformers/cross_encoder/CrossEncoder.py:11: TqdmExperimentalWarning: Using `tqdm.autonotebook.tqdm` in notebook mode. Use `tqdm.tqdm` instead to force console mode (e.g. in jupyter console)\n",
      "  from tqdm.autonotebook import tqdm, trange\n",
      "/Users/rohith_vasu/Library/Python/3.12/lib/python/site-packages/huggingface_hub/file_download.py:1132: FutureWarning: `resume_download` is deprecated and will be removed in version 1.0.0. Downloads always resume when possible. If you want to force a new download, use `force_download=True`.\n",
      "  warnings.warn(\n"
     ]
    }
   ],
   "source": [
    "db = embed_and_load(data)"
   ]
  },
  {
   "cell_type": "code",
   "execution_count": 21,
   "id": "d468174b-0f26-4be9-a9f2-23b900f7c947",
   "metadata": {},
   "outputs": [],
   "source": [
    "def get_relevant_data(query, db):\n",
    "  passage = db.similarity_search(query = query)\n",
    "  return passage"
   ]
  },
  {
   "cell_type": "code",
   "execution_count": 37,
   "id": "80d92300-43f8-4d9a-bd77-d051bfbbff87",
   "metadata": {},
   "outputs": [],
   "source": [
    "def make_rag_prompt(query, relevant_passage):\n",
    "  prompt = (\"\"\"You are a helpful and informative bot that gives information about movies using text from the reference passage included below. \\\n",
    "  Be sure to respond in a complete sentence, being comprehensive, including all relevant background information. \\\n",
    "  strike a friendly and converstional tone. \\\n",
    "  If the passage is irrelevant to the answer, you may ignore it.\n",
    "  QUESTION: '{query}'\n",
    "  PASSAGE: '{relevant_passage}'\n",
    "\n",
    "  ANSWER:\n",
    "  \"\"\").format(query = query, relevant_passage = relevant_passage)\n",
    "\n",
    "  return prompt"
   ]
  },
  {
   "cell_type": "code",
   "execution_count": 23,
   "id": "8c76fc86-46df-4bd8-8f2d-b4221e4b612a",
   "metadata": {},
   "outputs": [],
   "source": [
    "def generate_answer(prompt):\n",
    "    gemini_api_key = os.getenv(\"GEMINI_API_KEY\")\n",
    "    if not gemini_api_key:\n",
    "        raise ValueError(\"Gemini API Key not provided. Please provide GEMINI_API_KEY as an environment variable\")\n",
    "    genai.configure(api_key = gemini_api_key)\n",
    "    model = genai.GenerativeModel('gemini-pro')\n",
    "    answer = model.generate_content(prompt)\n",
    "    return answer.text"
   ]
  },
  {
   "cell_type": "code",
   "execution_count": 26,
   "id": "b8713353-a49c-4334-8ac1-dd1ad7732cd3",
   "metadata": {},
   "outputs": [],
   "source": [
    "def final_answer(db, query):\n",
    "    relevant_text = get_relevant_data(query, db)\n",
    "    prompt = make_rag_prompt(query, relevant_passage = relevant_text)\n",
    "    answer = generate_answer(prompt)\n",
    "\n",
    "    return answer"
   ]
  },
  {
   "cell_type": "code",
   "execution_count": 43,
   "id": "dfe0702a-032a-4d7b-9e4d-032e7402fc9c",
   "metadata": {},
   "outputs": [
    {
     "name": "stdout",
     "output_type": "stream",
     "text": [
      "The director of Interstellar is Christopher Nolan.\n"
     ]
    }
   ],
   "source": [
    "answer = final_answer(db = db, query = \"Who is the director of interstellar\")\n",
    "print(answer)"
   ]
  },
  {
   "cell_type": "code",
   "execution_count": null,
   "id": "c52645e3-f00b-405a-a2ad-4bb2856e7fe7",
   "metadata": {},
   "outputs": [],
   "source": []
  }
 ],
 "metadata": {
  "kernelspec": {
   "display_name": "Python 3 (ipykernel)",
   "language": "python",
   "name": "python3"
  },
  "language_info": {
   "codemirror_mode": {
    "name": "ipython",
    "version": 3
   },
   "file_extension": ".py",
   "mimetype": "text/x-python",
   "name": "python",
   "nbconvert_exporter": "python",
   "pygments_lexer": "ipython3",
   "version": "3.12.4"
  }
 },
 "nbformat": 4,
 "nbformat_minor": 5
}
