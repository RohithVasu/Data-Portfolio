{
 "cells": [
  {
   "cell_type": "code",
   "execution_count": 53,
   "id": "6785c335-cc85-4446-ad42-23ae1303cd62",
   "metadata": {},
   "outputs": [],
   "source": [
    "import os\n",
    "import bs4\n",
    "import streamlit as st\n",
    "from langchain_community.document_loaders import WebBaseLoader\n",
    "from langchain.text_splitter import RecursiveCharacterTextSplitter\n",
    "from langchain.embeddings import SentenceTransformerEmbeddings\n",
    "from langchain.vectorstores import Chroma\n",
    "import google.generativeai as genai"
   ]
  },
  {
   "cell_type": "code",
   "execution_count": 17,
   "id": "0bd248c2-7b16-4bfc-ba77-dd4a9118873b",
   "metadata": {},
   "outputs": [],
   "source": [
    "# set gemini api key as environment variable\n",
    "os.environ['GEMINI_API_KEY'] = '********'"
   ]
  },
  {
   "cell_type": "code",
   "execution_count": 38,
   "id": "3e28e639-f05c-4ca3-a249-79f127db5484",
   "metadata": {},
   "outputs": [],
   "source": [
    "def load_data(url):\n",
    "    loader = WebBaseLoader(web_paths = (url,),\n",
    "                bs_kwargs=dict(parse_only = bs4.SoupStrainer(class_ = (\"mw-content-container\"))))\n",
    "\n",
    "    text_documents=loader.load()\n",
    "    \n",
    "    return text_documents"
   ]
  },
  {
   "cell_type": "code",
   "execution_count": 39,
   "id": "2648c5de-45bd-443e-b8c8-12dd654ffa19",
   "metadata": {
    "scrolled": true
   },
   "outputs": [],
   "source": [
    "text_documents = load_data('https://en.wikipedia.org/wiki/Film')"
   ]
  },
  {
   "cell_type": "code",
   "execution_count": 40,
   "id": "d762eb8b-b418-4a96-b6ae-590a3da3eef7",
   "metadata": {
    "scrolled": true
   },
   "outputs": [],
   "source": [
    "def embed_and_load(text_documents):\n",
    "    # split the text into chunks\n",
    "    text_splitter = RecursiveCharacterTextSplitter(chunk_size = 1000, chunk_overlap = 200)\n",
    "    docs = text_splitter.split_documents(text_documents)\n",
    "\n",
    "    # embed load to chromaDB\n",
    "    embeddings = SentenceTransformerEmbeddings(model_name = 'sentence-transformers/all-mpnet-base-v2')\n",
    "    db = Chroma.from_documents(docs, embeddings)\n",
    "\n",
    "    return db"
   ]
  },
  {
   "cell_type": "code",
   "execution_count": 41,
   "id": "a4d3dc74-436f-4f5a-9785-c2b1ffd4a897",
   "metadata": {},
   "outputs": [],
   "source": [
    "db = embed_and_load(text_documents)"
   ]
  },
  {
   "cell_type": "code",
   "execution_count": 47,
   "id": "474994f1-de54-4505-80b6-3021c3485863",
   "metadata": {},
   "outputs": [],
   "source": [
    "def make_rag_prompt(db, query):\n",
    "    # get relevant data\n",
    "    relevant_data = db.similarity_search(query = query)\n",
    "\n",
    "    # create a prompt for LLM\n",
    "    prompt = (\"\"\"You are a helpful and informative bot that answers questions using text from the reference passage included below. \\\n",
    "          Be sure to respond in a complete sentence, being comprehensive, including all relevant background information. \\\n",
    "          strike a friendly and converstional tone. \\\n",
    "          If the passage is irrelevant to the answer, you may ignore it.\n",
    "          QUESTION: '{query}'\n",
    "          PASSAGE: '{relevant_data}'\n",
    "\n",
    "          ANSWER:\n",
    "          \"\"\").format(query = query, relevant_data = relevant_data)\n",
    "    \n",
    "    return prompt"
   ]
  },
  {
   "cell_type": "code",
   "execution_count": 48,
   "id": "c115faa9-248f-47c8-90a7-4cedb43c0443",
   "metadata": {},
   "outputs": [],
   "source": [
    "def generate_answer(prompt):\n",
    "    gemini_api_key = os.getenv(\"GEMINI_API_KEY\")\n",
    "    if not gemini_api_key:\n",
    "        raise ValueError(\"Gemini API Key not provided. Please provide GEMINI_API_KEY as an environment variable\")\n",
    "    genai.configure(api_key = gemini_api_key)\n",
    "    model = genai.GenerativeModel('gemini-pro')\n",
    "    answer = model.generate_content(prompt)\n",
    "    return answer.text"
   ]
  },
  {
   "cell_type": "code",
   "execution_count": 49,
   "id": "3ddfa680-7412-41c4-8b38-6674e3144d82",
   "metadata": {},
   "outputs": [],
   "source": [
    "def final_answer(db, query):\n",
    "    prompt = make_rag_prompt(db, query)\n",
    "    answer = generate_answer(prompt)\n",
    "\n",
    "    return answer"
   ]
  },
  {
   "cell_type": "code",
   "execution_count": 51,
   "id": "0d91fe86-9081-4b0a-bfb2-c0786deecd67",
   "metadata": {},
   "outputs": [
    {
     "name": "stdout",
     "output_type": "stream",
     "text": [
      "A film (or a movie) is a type of visual art, where a series of images are displayed to tell a story, inform, or otherwise share ideas. Films are a powerful form of communication, and can be used to entertain, educate, or inspire.\n"
     ]
    }
   ],
   "source": [
    "answer = final_answer(db = db, query = \"What is a film?\")\n",
    "print(answer)"
   ]
  },
  {
   "cell_type": "code",
   "execution_count": null,
   "id": "e62bf0f5-d919-487d-ac2a-074345923deb",
   "metadata": {},
   "outputs": [],
   "source": [
    "import streamlit as st\n",
    "\n",
    "st.title('Hello There! Ask me a question')\n",
    "\n",
    "if 'conversation' not in st.session_state:\n",
    "    st.session_state.conversation = []\n",
    "\n",
    "user_input = st.text_input(\"You: \", \"Ask a question...\")\n",
    "\n",
    "if user_input:\n",
    "    answer = final_answer(db=db, query=user_input)\n",
    "    \n",
    "    # Clear previous conversation to display only current question and answer\n",
    "    st.session_state.conversation.clear()\n",
    "    \n",
    "    # Update conversation with current question and answer\n",
    "    st.session_state.conversation.append((\"You\", user_input))\n",
    "    st.session_state.conversation.append((\"Bot\", answer))\n",
    "\n",
    "# Display current conversation (question and answer)\n",
    "for speaker, text in st.session_state.conversation:\n",
    "    st.write(f\"{speaker}: {text}\")\n"
   ]
  }
 ],
 "metadata": {
  "kernelspec": {
   "display_name": "Python 3 (ipykernel)",
   "language": "python",
   "name": "python3"
  },
  "language_info": {
   "codemirror_mode": {
    "name": "ipython",
    "version": 3
   },
   "file_extension": ".py",
   "mimetype": "text/x-python",
   "name": "python",
   "nbconvert_exporter": "python",
   "pygments_lexer": "ipython3",
   "version": "3.12.4"
  }
 },
 "nbformat": 4,
 "nbformat_minor": 5
}
